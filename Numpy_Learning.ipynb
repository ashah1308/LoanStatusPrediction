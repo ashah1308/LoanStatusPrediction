{
  "nbformat": 4,
  "nbformat_minor": 0,
  "metadata": {
    "colab": {
      "provenance": [],
      "authorship_tag": "ABX9TyMAF1QUPURec7q5AG11rfAW",
      "include_colab_link": true
    },
    "kernelspec": {
      "name": "python3",
      "display_name": "Python 3"
    },
    "language_info": {
      "name": "python"
    }
  },
  "cells": [
    {
      "cell_type": "markdown",
      "metadata": {
        "id": "view-in-github",
        "colab_type": "text"
      },
      "source": [
        "<a href=\"https://colab.research.google.com/github/ashah1308/LoanStatusPrediction/blob/main/Numpy_Learning.ipynb\" target=\"_parent\"><img src=\"https://colab.research.google.com/assets/colab-badge.svg\" alt=\"Open In Colab\"/></a>"
      ]
    },
    {
      "cell_type": "code",
      "execution_count": 1,
      "metadata": {
        "id": "_eC09jcnzv6V"
      },
      "outputs": [],
      "source": [
        "list1 = [1,2,34, 5]"
      ]
    },
    {
      "cell_type": "code",
      "source": [
        "print(list1)"
      ],
      "metadata": {
        "colab": {
          "base_uri": "https://localhost:8080/"
        },
        "id": "7qUAIWlm0AiX",
        "outputId": "1577e12a-aa28-43a7-f6c6-84210488ec18"
      },
      "execution_count": 2,
      "outputs": [
        {
          "output_type": "stream",
          "name": "stdout",
          "text": [
            "[1, 2, 34, 5]\n"
          ]
        }
      ]
    },
    {
      "cell_type": "code",
      "source": [
        "!pip install numpy\n"
      ],
      "metadata": {
        "colab": {
          "base_uri": "https://localhost:8080/"
        },
        "id": "9OKffoaJ0DrW",
        "outputId": "b20fd3d4-3cb8-4b31-ed86-948e2927b76d"
      },
      "execution_count": 3,
      "outputs": [
        {
          "output_type": "stream",
          "name": "stdout",
          "text": [
            "Requirement already satisfied: numpy in /usr/local/lib/python3.10/dist-packages (1.25.2)\n"
          ]
        }
      ]
    },
    {
      "cell_type": "code",
      "source": [
        "#numpy arrary must have same data type"
      ],
      "metadata": {
        "id": "XkH2T2SN0bli"
      },
      "execution_count": 4,
      "outputs": []
    },
    {
      "cell_type": "code",
      "source": [
        "#ndarray = n- dimensional array\n",
        "import numpy as np\n",
        "np1 = np.array([0,1,2,3,4,5])\n",
        "print(np1)"
      ],
      "metadata": {
        "colab": {
          "base_uri": "https://localhost:8080/"
        },
        "id": "eEWJhJTx0iTy",
        "outputId": "da4356dd-7807-4983-f609-772f298de8ad"
      },
      "execution_count": 7,
      "outputs": [
        {
          "output_type": "stream",
          "name": "stdout",
          "text": [
            "[0 1 2 3 4 5]\n"
          ]
        }
      ]
    },
    {
      "cell_type": "code",
      "source": [
        "np1.shape"
      ],
      "metadata": {
        "colab": {
          "base_uri": "https://localhost:8080/"
        },
        "id": "BApvqrj10xHa",
        "outputId": "2750a9ac-00a8-4c91-f200-7ab082194028"
      },
      "execution_count": 8,
      "outputs": [
        {
          "output_type": "execute_result",
          "data": {
            "text/plain": [
              "(6,)"
            ]
          },
          "metadata": {},
          "execution_count": 8
        }
      ]
    },
    {
      "cell_type": "code",
      "source": [
        "np2 = np.arange(10)\n",
        "print(np2)"
      ],
      "metadata": {
        "colab": {
          "base_uri": "https://localhost:8080/"
        },
        "id": "wFfw2pka02TJ",
        "outputId": "192e9228-5449-4a9f-a236-06e2c82d12b0"
      },
      "execution_count": 11,
      "outputs": [
        {
          "output_type": "stream",
          "name": "stdout",
          "text": [
            "[0 1 2 3 4 5 6 7 8 9]\n"
          ]
        }
      ]
    },
    {
      "cell_type": "code",
      "source": [
        "#step"
      ],
      "metadata": {
        "id": "C2QBJDlI09hF"
      },
      "execution_count": 12,
      "outputs": []
    },
    {
      "cell_type": "code",
      "source": [
        "#steps\n",
        "np3 = np.arange(0,10,3)\n",
        "print(np3)"
      ],
      "metadata": {
        "colab": {
          "base_uri": "https://localhost:8080/"
        },
        "id": "RLjYKYB01MkB",
        "outputId": "42c4b79d-91c6-4ccb-aa08-827d708ab8e4"
      },
      "execution_count": 13,
      "outputs": [
        {
          "output_type": "stream",
          "name": "stdout",
          "text": [
            "[0 3 6 9]\n"
          ]
        }
      ]
    },
    {
      "cell_type": "code",
      "source": [
        "#zeros\n",
        "np4 = np.zeros(9)\n",
        "print(np4)"
      ],
      "metadata": {
        "colab": {
          "base_uri": "https://localhost:8080/"
        },
        "id": "7ci1txjo1TOZ",
        "outputId": "9e0528e5-2c46-4e8c-a54c-ff4c993b7970"
      },
      "execution_count": 17,
      "outputs": [
        {
          "output_type": "stream",
          "name": "stdout",
          "text": [
            "[0. 0. 0. 0. 0. 0. 0. 0. 0.]\n"
          ]
        }
      ]
    },
    {
      "cell_type": "code",
      "source": [
        "# Multidimensional Array\n",
        "np5 = np.zeros((2,3))\n",
        "print(np5)"
      ],
      "metadata": {
        "colab": {
          "base_uri": "https://localhost:8080/"
        },
        "id": "_5AzqQtY1YWc",
        "outputId": "ede39ab7-6747-40b8-a966-db631ddcf49e"
      },
      "execution_count": 25,
      "outputs": [
        {
          "output_type": "stream",
          "name": "stdout",
          "text": [
            "[[0. 0. 0.]\n",
            " [0. 0. 0.]]\n"
          ]
        }
      ]
    },
    {
      "cell_type": "code",
      "source": [
        "# Full\n",
        "np7 = np.full((10),6)\n",
        "print(np7)"
      ],
      "metadata": {
        "colab": {
          "base_uri": "https://localhost:8080/"
        },
        "id": "ZX60GpMK1qNG",
        "outputId": "dfa3e67c-e583-4ad8-db7a-93b74abdccbf"
      },
      "execution_count": 29,
      "outputs": [
        {
          "output_type": "stream",
          "name": "stdout",
          "text": [
            "[6 6 6 6 6 6 6 6 6 6]\n"
          ]
        }
      ]
    },
    {
      "cell_type": "code",
      "source": [
        "#multidimensinal Full\n",
        "np8 = np.full((4,4), 40)\n",
        "print(np8)"
      ],
      "metadata": {
        "colab": {
          "base_uri": "https://localhost:8080/"
        },
        "id": "7Gm_kMbw3i5s",
        "outputId": "0c11453a-a700-4d48-f458-2ffd01353e13"
      },
      "execution_count": 31,
      "outputs": [
        {
          "output_type": "stream",
          "name": "stdout",
          "text": [
            "[[40 40 40 40]\n",
            " [40 40 40 40]\n",
            " [40 40 40 40]\n",
            " [40 40 40 40]]\n"
          ]
        }
      ]
    },
    {
      "cell_type": "code",
      "source": [
        "# Convert python list to numpy\n",
        "my_list = [[1,2,3,4,5],[1,2,3,4,5]]\n",
        "np9 = np.array([[1,2,3,4],[5,6,7,8]])\n",
        "print(np9)\n",
        "np9.shape"
      ],
      "metadata": {
        "colab": {
          "base_uri": "https://localhost:8080/"
        },
        "id": "MYp1alEG32Mt",
        "outputId": "054b3ef8-6e07-4254-d572-b5c16fd4b13a"
      },
      "execution_count": 36,
      "outputs": [
        {
          "output_type": "stream",
          "name": "stdout",
          "text": [
            "[[1 2 3 4]\n",
            " [5 6 7 8]]\n"
          ]
        },
        {
          "output_type": "execute_result",
          "data": {
            "text/plain": [
              "(2, 4)"
            ]
          },
          "metadata": {},
          "execution_count": 36
        }
      ]
    },
    {
      "cell_type": "code",
      "source": [
        "#Slicing Numpy Array\n",
        "np11 = np.array([1,2,3,4,5,6,7,8,9])\n",
        "#return 2,3,4,5\n",
        "print(np11[1:5])\n",
        "#return 1,2,3\n",
        "print(np11[:3])\n",
        "# return 7 ,8, 9\n",
        "print(np11[6:])\n",
        "#return negative slice\n",
        "# 7, 8\n",
        "print(np11[-3:-1])\n",
        "#return slice with steps\n",
        "print(np11[1:5])\n",
        "print(np11[1:9:2])\n",
        "\n",
        "#step on entire array\n",
        "print(np11[::2])"
      ],
      "metadata": {
        "colab": {
          "base_uri": "https://localhost:8080/"
        },
        "id": "LkrKYe_C4Hn8",
        "outputId": "266a8d77-f26a-46bf-99dd-55f3f1097238"
      },
      "execution_count": 48,
      "outputs": [
        {
          "output_type": "stream",
          "name": "stdout",
          "text": [
            "[2 3 4 5]\n",
            "[1 2 3]\n",
            "[7 8 9]\n",
            "[7 8]\n",
            "[2 3 4 5]\n",
            "[2 4 6 8]\n",
            "[1 3 5 7 9]\n"
          ]
        }
      ]
    },
    {
      "cell_type": "code",
      "source": [
        "# Slice 2D array\n",
        "np2d = np.array([\n",
        "    [1,2,3,4,5],\n",
        "     [6,7,8,9,10]])\n",
        "print(np2d[1,0])"
      ],
      "metadata": {
        "colab": {
          "base_uri": "https://localhost:8080/"
        },
        "id": "Ezo1CEJR4ovw",
        "outputId": "49dd464e-b97f-47e4-9f98-7a53a21dfc91"
      },
      "execution_count": 51,
      "outputs": [
        {
          "output_type": "stream",
          "name": "stdout",
          "text": [
            "6\n"
          ]
        }
      ]
    },
    {
      "cell_type": "code",
      "source": [
        "print(np2d[0:2,2:])"
      ],
      "metadata": {
        "colab": {
          "base_uri": "https://localhost:8080/"
        },
        "id": "Zw3hSetx6f-o",
        "outputId": "436cb55f-3209-43b7-f15f-c4d21145bc76"
      },
      "execution_count": 56,
      "outputs": [
        {
          "output_type": "stream",
          "name": "stdout",
          "text": [
            "[[ 3  4  5]\n",
            " [ 8  9 10]]\n"
          ]
        }
      ]
    },
    {
      "cell_type": "code",
      "source": [
        "# Universal Function in Numpy\n",
        "print(np11)\n",
        "#[1 2 3 4 5 6 7 8 9]\n",
        "#Square Root\n",
        "#print(np.sqrt(np11))\n",
        "print(np.max(np11))\n",
        "print(np.min(np11))\n",
        "\n",
        "\n",
        "# absolute Va\n",
        "npabs = np.array([-1,-2,-3, 4, 5])\n",
        "print(np.abs(npabs))\n",
        "\n",
        "#find sign\n",
        "print(np.sign(npabs))\n",
        "\n",
        "# similary for sin , log\n",
        "\n",
        "\n",
        "\n"
      ],
      "metadata": {
        "colab": {
          "base_uri": "https://localhost:8080/"
        },
        "id": "7OiJW_af620j",
        "outputId": "ef3f1872-a456-4548-80db-55e56409bbf3"
      },
      "execution_count": 65,
      "outputs": [
        {
          "output_type": "stream",
          "name": "stdout",
          "text": [
            "[1 2 3 4 5 6 7 8 9]\n",
            "9\n",
            "1\n",
            "[1 2 3 4 5]\n",
            "[-1 -1 -1  1  1]\n"
          ]
        }
      ]
    },
    {
      "cell_type": "code",
      "source": [
        "# https://numpy.org/doc/stable/reference/ufuncs.html\n",
        "\n",
        "\n",
        "\n"
      ],
      "metadata": {
        "id": "pR8YJYe276Fn"
      },
      "execution_count": 66,
      "outputs": []
    },
    {
      "cell_type": "code",
      "source": [
        "# Copy Vs View of np Array"
      ],
      "metadata": {
        "id": "GHN9Uhai_-ma"
      },
      "execution_count": 67,
      "outputs": []
    },
    {
      "cell_type": "code",
      "source": [
        "np1 = np.array([0,1,2,3,4,5])\n",
        "np2 = np1.view()\n",
        "print(f'Original Np1 {np1}')\n",
        "print(f'Original Np2 {np2}')\n",
        "\n",
        "np1[0] = 90\n",
        "\n",
        "print(f'Change Np1 {np1}')\n",
        "print(f'Original Np2 {np2}')"
      ],
      "metadata": {
        "colab": {
          "base_uri": "https://localhost:8080/"
        },
        "id": "lLr7aQR6AC9k",
        "outputId": "f78409a2-fa3a-48f0-f133-bca096e950dd"
      },
      "execution_count": 71,
      "outputs": [
        {
          "output_type": "stream",
          "name": "stdout",
          "text": [
            "Original Np1 [0 1 2 3 4 5]\n",
            "Original Np2 [0 1 2 3 4 5]\n",
            "Change Np1 [90  1  2  3  4  5]\n",
            "Change Np2 [90  1  2  3  4  5]\n"
          ]
        }
      ]
    },
    {
      "cell_type": "code",
      "source": [
        "# Create a copy\n",
        "\n",
        "np2 = np1.copy()\n",
        "print(f'Original Np1 {np1}')\n",
        "print(f'Original Np2 {np2}')\n",
        "\n",
        "np1[0] = 40\n",
        "np2[3] = 23\n",
        "print(f'Change Np1 {np1}')\n",
        "print(f'Original Np2 {np2}')"
      ],
      "metadata": {
        "colab": {
          "base_uri": "https://localhost:8080/"
        },
        "id": "qJtCK_SBAHxR",
        "outputId": "f48b5a68-1acf-4326-dbd9-a1ef14f3db6a"
      },
      "execution_count": 73,
      "outputs": [
        {
          "output_type": "stream",
          "name": "stdout",
          "text": [
            "Original Np1 [40  1  2  3  4  5]\n",
            "Original Np2 [40  1  2  3  4  5]\n",
            "Change Np1 [40  1  2  3  4  5]\n",
            "Original Np2 [40  1  2 23  4  5]\n"
          ]
        }
      ]
    },
    {
      "cell_type": "code",
      "source": [
        "# Shape Reshape\n",
        "# Create 1-2 Numpy array and get shape\n",
        "np1 = np.array([1,2,3,4,5,6,7,8,9,10,11,12])\n",
        "np4=np1.reshape(2,3,2)\n",
        "print(np4.reshape(-1))\n",
        "\n",
        "# create 2D\n",
        "np2 = np.array([[1,2,3,4,5],[6,7,8,9,0]])\n",
        "print(np2)\n",
        "np2.shape"
      ],
      "metadata": {
        "colab": {
          "base_uri": "https://localhost:8080/"
        },
        "id": "tFio7xaxA9lw",
        "outputId": "cef10e4a-14a3-40ce-d7e4-9f3ea845cd91"
      },
      "execution_count": 83,
      "outputs": [
        {
          "output_type": "stream",
          "name": "stdout",
          "text": [
            "[ 1  2  3  4  5  6  7  8  9 10 11 12]\n",
            "[[1 2 3 4 5]\n",
            " [6 7 8 9 0]]\n"
          ]
        },
        {
          "output_type": "execute_result",
          "data": {
            "text/plain": [
              "(2, 5)"
            ]
          },
          "metadata": {},
          "execution_count": 83
        }
      ]
    },
    {
      "cell_type": "code",
      "source": [
        "# Iterating array\n",
        "\n",
        "np1 = np.array([1,2,3,4,5,6,7,8,9,10])\n",
        "# for x in np1:\n",
        "#   print(x)\n",
        "\n",
        "np2 = np.array([[1,2,3,4,5],[6,7,8,9,10]])\n",
        "# for row in np2:\n",
        "#   for col in row:\n",
        "#     print(col)\n",
        "\n",
        "np3 = np.array([[[1,2,3],[4,5,6]],[[7,8,9],[10,11,12]]])\n",
        "# for z in np3:\n",
        "#   for y in z:\n",
        "#     for x in y:\n",
        "      # print(x)\n",
        "\n",
        "# Use np.nditer()\n",
        "for x in np.nditer(np3):\n",
        "  print(x)"
      ],
      "metadata": {
        "colab": {
          "base_uri": "https://localhost:8080/"
        },
        "id": "UcA5f5bkDHY5",
        "outputId": "fa993ac6-fd2a-46ad-e9f2-2454a4978218"
      },
      "execution_count": 92,
      "outputs": [
        {
          "output_type": "stream",
          "name": "stdout",
          "text": [
            "1\n",
            "2\n",
            "3\n",
            "4\n",
            "5\n",
            "6\n",
            "7\n",
            "8\n",
            "9\n",
            "10\n",
            "11\n",
            "12\n"
          ]
        }
      ]
    },
    {
      "cell_type": "code",
      "source": [
        "# sorting numpy arrays numerical\n",
        "np1 = np.array([6,7,9,1,2,5])\n",
        "print(np.sort(np1))\n",
        "\n",
        "#alpha\n",
        "np2 = np.array([\"john\",\"aakash\", \"parth\", \"Ankit\"])\n",
        "print(np.sort(np2))\n",
        "\n",
        "#bool\n",
        "np3 = np.array([True,False, False, True])\n",
        "print(np.sort(np3))\n",
        "\n",
        "\n",
        "np4 = np.array([[10,20,30,14,45],[6,7,8,9,10]])\n",
        "print(np.sort(np4))\n"
      ],
      "metadata": {
        "colab": {
          "base_uri": "https://localhost:8080/"
        },
        "id": "yGJirnuKcnim",
        "outputId": "a6dd24a7-32f4-42a5-fe97-8ba8aadfb0c5"
      },
      "execution_count": 96,
      "outputs": [
        {
          "output_type": "stream",
          "name": "stdout",
          "text": [
            "[1 2 5 6 7 9]\n",
            "['Ankit' 'aakash' 'john' 'parth']\n",
            "[False False  True  True]\n",
            "[[10 14 20 30 45]\n",
            " [ 6  7  8  9 10]]\n"
          ]
        }
      ]
    },
    {
      "cell_type": "code",
      "source": [
        "# Searching in numpy Array #return index no\n",
        "np1 = np.array([6,7,9,1,2,5,8,2,5])\n",
        "x = np.where(np1 == 2) # return index no\n",
        "# print(np1)\n",
        "# print (x[0])\n",
        "# print(np1[x[0]])\n",
        "y = np.where(np1 % 2 == 0)\n",
        "print(np1[y[0]])"
      ],
      "metadata": {
        "colab": {
          "base_uri": "https://localhost:8080/"
        },
        "id": "COQ8NmmjedC0",
        "outputId": "37450d68-ab33-4ffa-8011-c1475e9e2c18"
      },
      "execution_count": 106,
      "outputs": [
        {
          "output_type": "stream",
          "name": "stdout",
          "text": [
            "[6 2 8 2]\n"
          ]
        }
      ]
    },
    {
      "cell_type": "code",
      "source": [
        "# How Filter numpy Array\n",
        "np1 = np.array([7,9,1,2,5,8,2,5])\n",
        "# x = [True, False, True ,False,True, False, True ,False]\n",
        "# print(np1)\n",
        "# print(np1[x])\n",
        "filtered = []\n",
        "for thing in np1:\n",
        "  if thing > 5:\n",
        "    filtered.append(True)\n",
        "  else:\n",
        "    filtered.append(False)\n",
        "\n",
        "print(np1[filtered])"
      ],
      "metadata": {
        "colab": {
          "base_uri": "https://localhost:8080/"
        },
        "id": "iWxN7j6FqheP",
        "outputId": "a01849e2-a452-408a-9d03-4bfbc3662e2a"
      },
      "execution_count": 115,
      "outputs": [
        {
          "output_type": "stream",
          "name": "stdout",
          "text": [
            "[7 9 8]\n"
          ]
        }
      ]
    },
    {
      "cell_type": "code",
      "source": [
        "#Filter short cut\n",
        "filter = np1 % 2 == 0\n",
        "print(np1[filtered])"
      ],
      "metadata": {
        "colab": {
          "base_uri": "https://localhost:8080/"
        },
        "id": "pHEAvgKUsDuE",
        "outputId": "90edb2a3-5496-4d51-8c64-0008403d29eb"
      },
      "execution_count": 117,
      "outputs": [
        {
          "output_type": "stream",
          "name": "stdout",
          "text": [
            "[7 9 8]\n"
          ]
        }
      ]
    },
    {
      "cell_type": "code",
      "source": [],
      "metadata": {
        "id": "I90G5wEttVam"
      },
      "execution_count": 117,
      "outputs": []
    }
  ]
}